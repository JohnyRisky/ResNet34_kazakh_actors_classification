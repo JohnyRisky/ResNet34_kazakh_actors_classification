{
 "cells": [
  {
   "cell_type": "code",
   "execution_count": 4,
   "id": "6ca9de59-fa48-4244-9f6a-15abc6b291f9",
   "metadata": {},
   "outputs": [],
   "source": [
    "import albumentations as A\n",
    "import cv2\n",
    "\n",
    "import os"
   ]
  },
  {
   "cell_type": "code",
   "execution_count": 16,
   "id": "1cf95178-aa2c-45ed-aa8b-1e2117b38bd5",
   "metadata": {},
   "outputs": [],
   "source": [
    "root_directory = \"ActorsDataset\"\n",
    "transforms = A.Compose([\n",
    "    A.HorizontalFlip(p=0.5),\n",
    "    A.RandomBrightnessContrast(p=0.2),\n",
    "    A.Rotate(limit=15, p=0.5),\n",
    "])\n",
    "\n",
    "for split in [\"train\", \"test\"]:\n",
    "    split_path = os.path.join(root_directory, split)\n",
    "    if not os.path.exists(split_path):\n",
    "        continue\n",
    "\n",
    "    for actor_folder in os.listdir(split_path):\n",
    "        actor_path = os.path.join(split_path, actor_folder)\n",
    "        if not os.path.isdir(actor_path):\n",
    "            continue\n",
    "\n",
    "        for img in os.listdir(actor_path):\n",
    "            img_path = os.path.join(actor_path, img)\n",
    "            image = cv2.imread(img_path)\n",
    "\n",
    "            if image is None:\n",
    "                print(f\"Ошибка загрузки изображения: {img_path}\")\n",
    "                continue\n",
    "\n",
    "            for i in range(3):\n",
    "                augmented_img = transforms(image=image)['image']\n",
    "                output_path = os.path.join(actor_path, f\"{os.path.splitext(img)[0]}_aug_{i}.png\")\n",
    "                cv2.imwrite(output_path, augmented_img)"
   ]
  },
  {
   "cell_type": "code",
   "execution_count": null,
   "id": "05142992-ea47-4d4d-9eb5-f557d188a325",
   "metadata": {},
   "outputs": [],
   "source": []
  }
 ],
 "metadata": {
  "kernelspec": {
   "display_name": "Python 3 (ipykernel)",
   "language": "python",
   "name": "python3"
  },
  "language_info": {
   "codemirror_mode": {
    "name": "ipython",
    "version": 3
   },
   "file_extension": ".py",
   "mimetype": "text/x-python",
   "name": "python",
   "nbconvert_exporter": "python",
   "pygments_lexer": "ipython3",
   "version": "3.12.7"
  }
 },
 "nbformat": 4,
 "nbformat_minor": 5
}
